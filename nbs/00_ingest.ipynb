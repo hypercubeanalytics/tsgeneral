{
 "cells": [
  {
   "cell_type": "markdown",
   "metadata": {},
   "source": [
    "# ingest\n",
    "\n",
    "> This module contains code to read and validate files"
   ]
  },
  {
   "cell_type": "code",
   "execution_count": null,
   "metadata": {},
   "outputs": [],
   "source": [
    "#| default_exp hcingest"
   ]
  },
  {
   "cell_type": "code",
   "execution_count": null,
   "metadata": {},
   "outputs": [],
   "source": [
    "#| hide\n",
    "from nbdev.showdoc import *"
   ]
  },
  {
   "cell_type": "code",
   "execution_count": null,
   "metadata": {},
   "outputs": [],
   "source": [
    "#| export\n",
    "import re\n",
    "import pandas as pd        \n",
    "import numpy as np \n",
    "import traceback\n",
    "import datetime\n",
    "from cerberus import Validator\n",
    "from urllib.error import URLError"
   ]
  },
  {
   "cell_type": "code",
   "execution_count": null,
   "metadata": {},
   "outputs": [],
   "source": [
    "#| export\n",
    "def read(file_type: str, file_path: str) -> tuple:\n",
    "    \"\"\"\n",
    "    This function read  helps  to read any of a csv,excel and parquet file,\n",
    "    and returns a pandas dataframe.\n",
    "\n",
    "    Parameters\n",
    "    ----------\n",
    "    file_type: file type must be one of csv,excel or parquet format.\n",
    "    file: file path.\n",
    "\n",
    "    Returns\n",
    "    -------\n",
    "        if   errors - function returns tuple with boolean value  \"False\" and dictionary with errors \n",
    "        if no errors - function returns tuple with boolean value  \"True\" and  dataframe\n",
    "\n",
    "    \"\"\"\n",
    "\n",
    "    report_dict = {}\n",
    "    errors = {}\n",
    "    emptydf = pd.DataFrame()\n",
    "    error_flag = False\n",
    "\n",
    "    if file_type not in ['csv', 'excel', 'parquet']:\n",
    "        errors[\"error\"] = \"unsupported file format please pass one of csv,excel or parquet types\"\n",
    "        return (False, errors, emptydf)\n",
    "\n",
    "    # first set of checks on file missing, corrupted, etc.\n",
    "    try:\n",
    "        if file_type == 'csv':\n",
    "            df = pd.read_csv(file_path)\n",
    "        if file_type == 'excel':\n",
    "            df = pd.read_excel(file_path)\n",
    "        if file_type == 'parquet':\n",
    "            df = pd.read_parquet(file_path)\n",
    "\n",
    "    except FileNotFoundError as e:\n",
    "        errors[\"error\"] = (\n",
    "            \"File not found please check file path\", traceback.format_exc())\n",
    "        error_flag = True\n",
    "    except URLError as e1:\n",
    "        errors[\"error\"] = ('URL not found,invalid URL', traceback.format_exc())\n",
    "        error_flag = True\n",
    "    except UnicodeDecodeError as e2:\n",
    "        errors[\"error\"] = (\n",
    "            \"corrupted data or wrong file format\", traceback.format_exc())\n",
    "        error_flag = True\n",
    "    except ValueError as e3:\n",
    "        errors[\"error\"] = (\n",
    "            \"corrupted data or wrong file format\", traceback.format_exc())\n",
    "        error_flag = True\n",
    "    except:\n",
    "        errors[\"error\"] = (\"UnKnow error occured \", traceback.format_exc())\n",
    "        error_flag = True\n",
    "\n",
    "    if error_flag:\n",
    "        return (False, errors)\n",
    "    return (True, df)"
   ]
  },
  {
   "cell_type": "code",
   "execution_count": null,
   "metadata": {},
   "outputs": [],
   "source": [
    "from pprint import pprint"
   ]
  },
  {
   "cell_type": "markdown",
   "metadata": {},
   "source": [
    "### Valid test case"
   ]
  },
  {
   "cell_type": "code",
   "execution_count": null,
   "metadata": {},
   "outputs": [
    {
     "data": {
      "text/html": [
       "<div>\n",
       "<style scoped>\n",
       "    .dataframe tbody tr th:only-of-type {\n",
       "        vertical-align: middle;\n",
       "    }\n",
       "\n",
       "    .dataframe tbody tr th {\n",
       "        vertical-align: top;\n",
       "    }\n",
       "\n",
       "    .dataframe thead th {\n",
       "        text-align: right;\n",
       "    }\n",
       "</style>\n",
       "<table border=\"1\" class=\"dataframe\">\n",
       "  <thead>\n",
       "    <tr style=\"text-align: right;\">\n",
       "      <th></th>\n",
       "      <th>emp_id</th>\n",
       "      <th>emp_name</th>\n",
       "      <th>emp_salary</th>\n",
       "      <th>date</th>\n",
       "    </tr>\n",
       "  </thead>\n",
       "  <tbody>\n",
       "    <tr>\n",
       "      <th>0</th>\n",
       "      <td>1</td>\n",
       "      <td>rakesh</td>\n",
       "      <td>10.55</td>\n",
       "      <td>01-02-2020</td>\n",
       "    </tr>\n",
       "    <tr>\n",
       "      <th>1</th>\n",
       "      <td>2</td>\n",
       "      <td>ramesh</td>\n",
       "      <td>23.55</td>\n",
       "      <td>02-02-2020</td>\n",
       "    </tr>\n",
       "    <tr>\n",
       "      <th>2</th>\n",
       "      <td>3</td>\n",
       "      <td>radhesh</td>\n",
       "      <td>23.55</td>\n",
       "      <td>03-02-2020</td>\n",
       "    </tr>\n",
       "    <tr>\n",
       "      <th>3</th>\n",
       "      <td>4</td>\n",
       "      <td>ravesh</td>\n",
       "      <td>40.45</td>\n",
       "      <td>04-02-2020</td>\n",
       "    </tr>\n",
       "    <tr>\n",
       "      <th>4</th>\n",
       "      <td>5</td>\n",
       "      <td>ralesh</td>\n",
       "      <td>45.88</td>\n",
       "      <td>05-02-2020</td>\n",
       "    </tr>\n",
       "  </tbody>\n",
       "</table>\n",
       "</div>"
      ],
      "text/plain": [
       "   emp_id emp_name  emp_salary        date\n",
       "0       1   rakesh       10.55  01-02-2020\n",
       "1       2   ramesh       23.55  02-02-2020\n",
       "2       3  radhesh       23.55  03-02-2020\n",
       "3       4   ravesh       40.45  04-02-2020\n",
       "4       5   ralesh       45.88  05-02-2020"
      ]
     },
     "execution_count": null,
     "metadata": {},
     "output_type": "execute_result"
    }
   ],
   "source": [
    "path=\"https://demo-time-series.s3.us-east-2.amazonaws.com/no_error_file_valid_ex.csv\"\n",
    "\n",
    "rs=read(\"csv\",path)\n",
    "assert rs[0]==True, 'something went wrong'\n",
    "rs[1]"
   ]
  },
  {
   "cell_type": "markdown",
   "metadata": {},
   "source": [
    "### Failing Test Cases - invalid URL"
   ]
  },
  {
   "cell_type": "code",
   "execution_count": null,
   "metadata": {},
   "outputs": [
    {
     "data": {
      "text/plain": [
       "('URL not found,invalid URL',\n",
       " 'Traceback (most recent call last):\\n  File \"C:\\\\Users\\\\anant\\\\AppData\\\\Local\\\\Temp\\\\ipykernel_66920\\\\2984043852.py\", line 31, in read\\n    df = pd.read_csv(file_path)\\n  File \"C:\\\\Users\\\\anant\\\\AppData\\\\Local\\\\Programs\\\\Python\\\\Python310\\\\lib\\\\site-packages\\\\pandas\\\\util\\\\_decorators.py\", line 311, in wrapper\\n    return func(*args, **kwargs)\\n  File \"C:\\\\Users\\\\anant\\\\AppData\\\\Local\\\\Programs\\\\Python\\\\Python310\\\\lib\\\\site-packages\\\\pandas\\\\io\\\\parsers\\\\readers.py\", line 586, in read_csv\\n    return _read(filepath_or_buffer, kwds)\\n  File \"C:\\\\Users\\\\anant\\\\AppData\\\\Local\\\\Programs\\\\Python\\\\Python310\\\\lib\\\\site-packages\\\\pandas\\\\io\\\\parsers\\\\readers.py\", line 482, in _read\\n    parser = TextFileReader(filepath_or_buffer, **kwds)\\n  File \"C:\\\\Users\\\\anant\\\\AppData\\\\Local\\\\Programs\\\\Python\\\\Python310\\\\lib\\\\site-packages\\\\pandas\\\\io\\\\parsers\\\\readers.py\", line 811, in __init__\\n    self._engine = self._make_engine(self.engine)\\n  File \"C:\\\\Users\\\\anant\\\\AppData\\\\Local\\\\Programs\\\\Python\\\\Python310\\\\lib\\\\site-packages\\\\pandas\\\\io\\\\parsers\\\\readers.py\", line 1040, in _make_engine\\n    return mapping[engine](self.f, **self.options)  # type: ignore[call-arg]\\n  File \"C:\\\\Users\\\\anant\\\\AppData\\\\Local\\\\Programs\\\\Python\\\\Python310\\\\lib\\\\site-packages\\\\pandas\\\\io\\\\parsers\\\\c_parser_wrapper.py\", line 51, in __init__\\n    self._open_handles(src, kwds)\\n  File \"C:\\\\Users\\\\anant\\\\AppData\\\\Local\\\\Programs\\\\Python\\\\Python310\\\\lib\\\\site-packages\\\\pandas\\\\io\\\\parsers\\\\base_parser.py\", line 222, in _open_handles\\n    self.handles = get_handle(\\n  File \"C:\\\\Users\\\\anant\\\\AppData\\\\Local\\\\Programs\\\\Python\\\\Python310\\\\lib\\\\site-packages\\\\pandas\\\\io\\\\common.py\", line 609, in get_handle\\n    ioargs = _get_filepath_or_buffer(\\n  File \"C:\\\\Users\\\\anant\\\\AppData\\\\Local\\\\Programs\\\\Python\\\\Python310\\\\lib\\\\site-packages\\\\pandas\\\\io\\\\common.py\", line 312, in _get_filepath_or_buffer\\n    with urlopen(req_info) as req:\\n  File \"C:\\\\Users\\\\anant\\\\AppData\\\\Local\\\\Programs\\\\Python\\\\Python310\\\\lib\\\\site-packages\\\\pandas\\\\io\\\\common.py\", line 212, in urlopen\\n    return urllib.request.urlopen(*args, **kwargs)\\n  File \"C:\\\\Users\\\\anant\\\\AppData\\\\Local\\\\Programs\\\\Python\\\\Python310\\\\lib\\\\urllib\\\\request.py\", line 216, in urlopen\\n    return opener.open(url, data, timeout)\\n  File \"C:\\\\Users\\\\anant\\\\AppData\\\\Local\\\\Programs\\\\Python\\\\Python310\\\\lib\\\\urllib\\\\request.py\", line 525, in open\\n    response = meth(req, response)\\n  File \"C:\\\\Users\\\\anant\\\\AppData\\\\Local\\\\Programs\\\\Python\\\\Python310\\\\lib\\\\urllib\\\\request.py\", line 634, in http_response\\n    response = self.parent.error(\\n  File \"C:\\\\Users\\\\anant\\\\AppData\\\\Local\\\\Programs\\\\Python\\\\Python310\\\\lib\\\\urllib\\\\request.py\", line 563, in error\\n    return self._call_chain(*args)\\n  File \"C:\\\\Users\\\\anant\\\\AppData\\\\Local\\\\Programs\\\\Python\\\\Python310\\\\lib\\\\urllib\\\\request.py\", line 496, in _call_chain\\n    result = func(*args)\\n  File \"C:\\\\Users\\\\anant\\\\AppData\\\\Local\\\\Programs\\\\Python\\\\Python310\\\\lib\\\\urllib\\\\request.py\", line 643, in http_error_default\\n    raise HTTPError(req.full_url, code, msg, hdrs, fp)\\nurllib.error.HTTPError: HTTP Error 403: Forbidden\\n')"
      ]
     },
     "execution_count": null,
     "metadata": {},
     "output_type": "execute_result"
    }
   ],
   "source": [
    "path=\"https://demo-time-series.s3.us-east-2.amazonaws.com/_error_file_valid_ex.csv\"\n",
    "\n",
    "rs=read(\"csv\",path)\n",
    "rs[1]['error']"
   ]
  },
  {
   "cell_type": "markdown",
   "metadata": {},
   "source": [
    "### Failing test case - invalid format"
   ]
  },
  {
   "cell_type": "code",
   "execution_count": null,
   "metadata": {},
   "outputs": [
    {
     "data": {
      "text/plain": [
       "(False,\n",
       " {'error': ('corrupted data or wrong file format',\n",
       "   'Traceback (most recent call last):\\n  File \"C:\\\\Users\\\\anant\\\\AppData\\\\Local\\\\Temp\\\\ipykernel_66920\\\\2984043852.py\", line 33, in read\\n    df = pd.read_excel(file_path)\\n  File \"C:\\\\Users\\\\anant\\\\AppData\\\\Local\\\\Programs\\\\Python\\\\Python310\\\\lib\\\\site-packages\\\\pandas\\\\util\\\\_decorators.py\", line 311, in wrapper\\n    return func(*args, **kwargs)\\n  File \"C:\\\\Users\\\\anant\\\\AppData\\\\Local\\\\Programs\\\\Python\\\\Python310\\\\lib\\\\site-packages\\\\pandas\\\\io\\\\excel\\\\_base.py\", line 364, in read_excel\\n    io = ExcelFile(io, storage_options=storage_options, engine=engine)\\n  File \"C:\\\\Users\\\\anant\\\\AppData\\\\Local\\\\Programs\\\\Python\\\\Python310\\\\lib\\\\site-packages\\\\pandas\\\\io\\\\excel\\\\_base.py\", line 1195, in __init__\\n    raise ValueError(\\nValueError: Excel file format cannot be determined, you must specify an engine manually.\\n')})"
      ]
     },
     "execution_count": null,
     "metadata": {},
     "output_type": "execute_result"
    }
   ],
   "source": [
    "path=\"https://demo-time-series.s3.us-east-2.amazonaws.com/no_error_file_valid_ex.csv\"\n",
    "\n",
    "rs=read(\"excel\",path)\n",
    "rs"
   ]
  },
  {
   "cell_type": "markdown",
   "metadata": {},
   "source": [
    "### invalid path"
   ]
  },
  {
   "cell_type": "code",
   "execution_count": null,
   "metadata": {},
   "outputs": [
    {
     "data": {
      "text/plain": [
       "(False,\n",
       " {'error': ('File not found please check file path',\n",
       "   'Traceback (most recent call last):\\n  File \"C:\\\\Users\\\\anant\\\\AppData\\\\Local\\\\Temp\\\\ipykernel_66920\\\\2984043852.py\", line 31, in read\\n    df = pd.read_csv(file_path)\\n  File \"C:\\\\Users\\\\anant\\\\AppData\\\\Local\\\\Programs\\\\Python\\\\Python310\\\\lib\\\\site-packages\\\\pandas\\\\util\\\\_decorators.py\", line 311, in wrapper\\n    return func(*args, **kwargs)\\n  File \"C:\\\\Users\\\\anant\\\\AppData\\\\Local\\\\Programs\\\\Python\\\\Python310\\\\lib\\\\site-packages\\\\pandas\\\\io\\\\parsers\\\\readers.py\", line 586, in read_csv\\n    return _read(filepath_or_buffer, kwds)\\n  File \"C:\\\\Users\\\\anant\\\\AppData\\\\Local\\\\Programs\\\\Python\\\\Python310\\\\lib\\\\site-packages\\\\pandas\\\\io\\\\parsers\\\\readers.py\", line 482, in _read\\n    parser = TextFileReader(filepath_or_buffer, **kwds)\\n  File \"C:\\\\Users\\\\anant\\\\AppData\\\\Local\\\\Programs\\\\Python\\\\Python310\\\\lib\\\\site-packages\\\\pandas\\\\io\\\\parsers\\\\readers.py\", line 811, in __init__\\n    self._engine = self._make_engine(self.engine)\\n  File \"C:\\\\Users\\\\anant\\\\AppData\\\\Local\\\\Programs\\\\Python\\\\Python310\\\\lib\\\\site-packages\\\\pandas\\\\io\\\\parsers\\\\readers.py\", line 1040, in _make_engine\\n    return mapping[engine](self.f, **self.options)  # type: ignore[call-arg]\\n  File \"C:\\\\Users\\\\anant\\\\AppData\\\\Local\\\\Programs\\\\Python\\\\Python310\\\\lib\\\\site-packages\\\\pandas\\\\io\\\\parsers\\\\c_parser_wrapper.py\", line 51, in __init__\\n    self._open_handles(src, kwds)\\n  File \"C:\\\\Users\\\\anant\\\\AppData\\\\Local\\\\Programs\\\\Python\\\\Python310\\\\lib\\\\site-packages\\\\pandas\\\\io\\\\parsers\\\\base_parser.py\", line 222, in _open_handles\\n    self.handles = get_handle(\\n  File \"C:\\\\Users\\\\anant\\\\AppData\\\\Local\\\\Programs\\\\Python\\\\Python310\\\\lib\\\\site-packages\\\\pandas\\\\io\\\\common.py\", line 702, in get_handle\\n    handle = open(\\nFileNotFoundError: [Errno 2] No such file or directory: \\'some/invalid/path.csv\\'\\n')})"
      ]
     },
     "execution_count": null,
     "metadata": {},
     "output_type": "execute_result"
    }
   ],
   "source": [
    "path=\"some/invalid/path.csv\"\n",
    "\n",
    "rs=read(\"csv\",path)\n",
    "rs"
   ]
  },
  {
   "cell_type": "code",
   "execution_count": null,
   "metadata": {},
   "outputs": [],
   "source": [
    "#| hide\n",
    "import nbdev; nbdev.nbdev_export()"
   ]
  },
  {
   "cell_type": "code",
   "execution_count": null,
   "metadata": {},
   "outputs": [],
   "source": []
  }
 ],
 "metadata": {
  "kernelspec": {
   "display_name": "python3",
   "language": "python",
   "name": "python3"
  }
 },
 "nbformat": 4,
 "nbformat_minor": 4
}
