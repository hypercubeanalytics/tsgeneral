{
 "cells": [
  {
   "cell_type": "markdown",
   "metadata": {},
   "source": [
    "# ingest\n",
    "\n",
    "> This module contains code to read and validate files"
   ]
  },
  {
   "cell_type": "code",
   "execution_count": null,
   "metadata": {},
   "outputs": [],
   "source": [
    "#| default_exp hcingest"
   ]
  },
  {
   "cell_type": "code",
   "execution_count": null,
   "metadata": {},
   "outputs": [],
   "source": [
    "#| hide\n",
    "from nbdev.showdoc import *"
   ]
  },
  {
   "cell_type": "code",
   "execution_count": null,
   "metadata": {},
   "outputs": [],
   "source": [
    "#| export\n",
    "def simple_validator(df,schema):\n",
    "    \"\"\"\n",
    "    simple_validator is a simple function to validate a given dataframe  with given schema.\n",
    "    data frame  rows converted into list of dictioners and validates with\n",
    "    respect to the given schema and gives output a error dictionary.\n",
    "    Input:\n",
    "    df  - pandas dataframe\n",
    "    schema - cerberus schema\n",
    "    Output:\n",
    "    if errors  - tuple with True and dictionary with detial errors \n",
    "    if no errors - tuple with True and empty dictionary \n",
    "    \"\"\"\n",
    "    print('this is the function simple_validator')"
   ]
  },
  {
   "cell_type": "code",
   "execution_count": null,
   "metadata": {},
   "outputs": [],
   "source": [
    "#| export\n",
    "def read(file_type:str,file_path:str)-> tuple: \n",
    "    \"\"\"\n",
    "    This function read  helps  to read any of a csv,excel and parquet file,\n",
    "    and returns a pandas dataframe.\n",
    "    \n",
    "    Parameters\n",
    "    ----------\n",
    "    file_type: file type must be one of csv,excel or parquet format.\n",
    "    file: file path.\n",
    "        \n",
    "    Returns\n",
    "    -------\n",
    "        if   errors - function returns tuple with boolean value  \"False\" and dictionary with errors and empty dataframe\n",
    "        if no errors - function returns tuple with boolean value  \"True\" and  empty dictionary and  dataframe\n",
    "\n",
    "    \"\"\"\n",
    "    print('this is the function read')"
   ]
  },
  {
   "cell_type": "code",
   "execution_count": null,
   "metadata": {},
   "outputs": [],
   "source": [
    "#| export\n",
    "def print_something():\n",
    "    print('something')"
   ]
  },
  {
   "cell_type": "code",
   "execution_count": null,
   "metadata": {},
   "outputs": [],
   "source": [
    "#| export\n",
    "def test_prime():\n",
    "    print('test priming')"
   ]
  },
  {
   "cell_type": "code",
   "execution_count": null,
   "metadata": {},
   "outputs": [
    {
     "ename": "SyntaxError",
     "evalue": "invalid syntax (<unknown>, line 1)",
     "output_type": "error",
     "traceback": [
      "Traceback \u001b[1;36m(most recent call last)\u001b[0m:\n",
      "\u001b[0m  File \u001b[0;32m~\\AppData\\Local\\Programs\\Python\\Python310\\lib\\site-packages\\IPython\\core\\interactiveshell.py:3378\u001b[0m in \u001b[0;35mrun_code\u001b[0m\n    exec(code_obj, self.user_global_ns, self.user_ns)\u001b[0m\n",
      "\u001b[0m  Cell \u001b[0;32mIn [14], line 2\u001b[0m\n    import nbdev; nbdev.nbdev_export()\u001b[0m\n",
      "\u001b[0m  File \u001b[0;32m~\\AppData\\Local\\Programs\\Python\\Python310\\lib\\site-packages\\fastcore\\script.py:110\u001b[0m in \u001b[0;35m_f\u001b[0m\n    if not mod: return func(*args, **kwargs)\u001b[0m\n",
      "\u001b[0m  File \u001b[0;32m~\\AppData\\Local\\Programs\\Python\\Python310\\lib\\site-packages\\nbdev\\doclinks.py:144\u001b[0m in \u001b[0;35mnbdev_export\u001b[0m\n    _build_modidx()\u001b[0m\n",
      "\u001b[0m  File \u001b[0;32m~\\AppData\\Local\\Programs\\Python\\Python310\\lib\\site-packages\\nbdev\\doclinks.py:102\u001b[0m in \u001b[0;35m_build_modidx\u001b[0m\n    res['syms'].update(_get_modidx((dest.parent/file).resolve(), code_root, nbs_path=nbs_path))\u001b[0m\n",
      "\u001b[0m  File \u001b[0;32m~\\AppData\\Local\\Programs\\Python\\Python310\\lib\\site-packages\\nbdev\\doclinks.py:79\u001b[0m in \u001b[0;35m_get_modidx\u001b[0m\n    for tree in ast.parse(cell.code).body:\u001b[0m\n",
      "\u001b[1;36m  File \u001b[1;32m~\\AppData\\Local\\Programs\\Python\\Python310\\lib\\ast.py:50\u001b[1;36m in \u001b[1;35mparse\u001b[1;36m\n\u001b[1;33m    return compile(source, filename, mode, flags,\u001b[1;36m\n",
      "\u001b[1;36m  File \u001b[1;32m<unknown>:1\u001b[1;36m\u001b[0m\n\u001b[1;33m    def test_\u001b[0m\n\u001b[1;37m             ^\u001b[0m\n\u001b[1;31mSyntaxError\u001b[0m\u001b[1;31m:\u001b[0m invalid syntax\n"
     ]
    }
   ],
   "source": [
    "#| hide\n",
    "import nbdev; nbdev.nbdev_export()"
   ]
  }
 ],
 "metadata": {
  "kernelspec": {
   "display_name": "python3",
   "language": "python",
   "name": "python3"
  }
 },
 "nbformat": 4,
 "nbformat_minor": 4
}
