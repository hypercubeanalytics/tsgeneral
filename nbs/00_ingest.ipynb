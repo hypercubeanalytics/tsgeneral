{
 "cells": [
  {
   "cell_type": "markdown",
   "metadata": {},
   "source": [
    "# ingest\n",
    "\n",
    "> This module contains code to read and validate files"
   ]
  },
  {
   "cell_type": "code",
   "execution_count": null,
   "metadata": {},
   "outputs": [],
   "source": [
    "#| default_exp hcingest"
   ]
  },
  {
   "cell_type": "code",
   "execution_count": null,
   "metadata": {},
   "outputs": [],
   "source": [
    "#| hide\n",
    "from nbdev.showdoc import *"
   ]
  },
  {
   "cell_type": "code",
   "execution_count": null,
   "metadata": {},
   "outputs": [],
   "source": [
    "#| export\n",
    "def simple_validator(df,schema):\n",
    "    \"\"\"\n",
    "    simple_validator is a simple function to validate a given dataframe  with given schema.\n",
    "    data frame  rows converted into list of dictioners and validates with\n",
    "    respect to the given schema and gives output a error dictionary.\n",
    "    Input:\n",
    "    df  - pandas dataframe\n",
    "    schema - cerberus schema\n",
    "    Output:\n",
    "    if errors  - tuple with True and dictionary with detial errors \n",
    "    if no errors - tuple with True and empty dictionary \n",
    "    \"\"\"\n",
    "    print('this is the function simple_validator')"
   ]
  },
  {
   "cell_type": "code",
   "execution_count": null,
   "metadata": {},
   "outputs": [],
   "source": [
    "#| export\n",
    "def read(file_type:str,file_path:str)-> tuple: \n",
    "    \"\"\"\n",
    "    This function read  helps  to read any of a csv,excel and parquet file,\n",
    "    and returns a pandas dataframe.\n",
    "    \n",
    "    Parameters\n",
    "    ----------\n",
    "    file_type: file type must be one of csv,excel or parquet format.\n",
    "    file: file path.\n",
    "        \n",
    "    Returns\n",
    "    -------\n",
    "        if   errors - function returns tuple with boolean value  \"False\" and dictionary with errors and empty dataframe\n",
    "        if no errors - function returns tuple with boolean value  \"True\" and  empty dictionary and  dataframe\n",
    "\n",
    "    \"\"\"\n",
    "    print('this is the function read')"
   ]
  },
  {
   "cell_type": "code",
   "execution_count": null,
   "metadata": {},
   "outputs": [],
   "source": [
    "#| hide\n",
    "import nbdev; nbdev.nbdev_export()"
   ]
  }
 ],
 "metadata": {
  "kernelspec": {
   "display_name": "Python 3 (ipykernel)",
   "language": "python",
   "name": "python3"
  }
 },
 "nbformat": 4,
 "nbformat_minor": 4
}
