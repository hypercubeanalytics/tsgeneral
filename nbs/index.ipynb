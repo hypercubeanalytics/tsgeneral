{
 "cells": [
  {
   "cell_type": "code",
   "execution_count": null,
   "metadata": {},
   "outputs": [],
   "source": [
    "#| hide\n",
    "from tsgeneral.hcingest import *\n",
    "import pandas as pd"
   ]
  },
  {
   "cell_type": "markdown",
   "metadata": {},
   "source": [
    "# tsgeneral\n",
    "\n",
    "> general time series analysis"
   ]
  },
  {
   "cell_type": "markdown",
   "metadata": {},
   "source": [
    "This file will become your README and also the index of your documentation."
   ]
  },
  {
   "cell_type": "markdown",
   "metadata": {},
   "source": [
    "## Install"
   ]
  },
  {
   "cell_type": "markdown",
   "metadata": {},
   "source": [
    "```sh\n",
    "pip install tsgeneral\n",
    "```"
   ]
  },
  {
   "cell_type": "markdown",
   "metadata": {},
   "source": [
    "## How to use"
   ]
  },
  {
   "cell_type": "markdown",
   "metadata": {},
   "source": [
    "**read**"
   ]
  },
  {
   "cell_type": "code",
   "execution_count": null,
   "metadata": {},
   "outputs": [
    {
     "data": {
      "text/plain": [
       "(True,\n",
       "    emp_id emp_name  emp_salary        date\n",
       " 0       1   rakesh       10.55  01-02-2020\n",
       " 1       2   ramesh       23.55  02-02-2020\n",
       " 2       3  radhesh       23.55  03-02-2020\n",
       " 3       4   ravesh       40.45  04-02-2020\n",
       " 4       5   ralesh       45.88  05-02-2020)"
      ]
     },
     "execution_count": null,
     "metadata": {},
     "output_type": "execute_result"
    }
   ],
   "source": [
    "path=\"https://demo-time-series.s3.us-east-2.amazonaws.com/no_error_file_valid_ex.csv\"\n",
    "\n",
    "rs=read(\"csv\",path)\n",
    "rs"
   ]
  },
  {
   "cell_type": "markdown",
   "metadata": {},
   "source": [
    "**create_schema**"
   ]
  },
  {
   "cell_type": "code",
   "execution_count": null,
   "metadata": {},
   "outputs": [
    {
     "data": {
      "text/plain": [
       "(True,\n",
       " {'emp_id': {'type': 'integer', 'coerce': int},\n",
       "  'emp_name': {'type': 'string', 'coerce': str},\n",
       "  'emp_salary': {'type': 'float', 'coerce': float},\n",
       "  'date': {'type': 'datetime',\n",
       "   'coerce': <function tsgeneral.hcingest.create_schema.<locals>.<lambda>(d)>}})"
      ]
     },
     "execution_count": null,
     "metadata": {},
     "output_type": "execute_result"
    }
   ],
   "source": [
    "col_dict = {\"emp_id\": int, \n",
    "            \"emp_name\": str,\n",
    "            \"emp_salary\": float, \n",
    "            \"date\": (\"date\", \"%-%m-%Y\"),\n",
    "           }\n",
    "\n",
    "create_schema(col_dict)"
   ]
  }
 ],
 "metadata": {
  "kernelspec": {
   "display_name": "python3",
   "language": "python",
   "name": "python3"
  }
 },
 "nbformat": 4,
 "nbformat_minor": 4
}
